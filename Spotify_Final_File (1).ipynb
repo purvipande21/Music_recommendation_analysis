{
 "cells": [
  {
   "cell_type": "code",
   "execution_count": 1,
   "id": "2aa044cf",
   "metadata": {},
   "outputs": [],
   "source": [
    "import pandas as pd\n",
    "import numpy as np\n",
    "import matplotlib.pyplot as plt\n",
    "import seaborn as sb"
   ]
  },
  {
   "cell_type": "code",
   "execution_count": 1,
   "id": "fab8f5f6",
   "metadata": {},
   "outputs": [],
   "source": [
    "#df = pd.read_excel(\"../ML_Codons/DataSets/\")\n",
    "#df"
   ]
  },
  {
   "cell_type": "code",
   "execution_count": null,
   "id": "eb540fc7",
   "metadata": {},
   "outputs": [],
   "source": [
    "df.describe()"
   ]
  },
  {
   "cell_type": "code",
   "execution_count": null,
   "id": "4a49cf16",
   "metadata": {},
   "outputs": [],
   "source": [
    "# Categorizing the data "
   ]
  },
  {
   "cell_type": "code",
   "execution_count": null,
   "id": "9d6caf78",
   "metadata": {},
   "outputs": [],
   "source": [
    "def categorize_value(x):\n",
    "    if x >= 0.0 and x <= 0.50:\n",
    "        return \"Low\"\n",
    "    else:\n",
    "        return \"High\""
   ]
  },
  {
   "cell_type": "code",
   "execution_count": null,
   "id": "1554492b",
   "metadata": {},
   "outputs": [],
   "source": [
    "df[\"Danceability Category\"] = df.danceability.apply(categorize_value)"
   ]
  },
  {
   "cell_type": "code",
   "execution_count": null,
   "id": "1458a23e",
   "metadata": {},
   "outputs": [],
   "source": [
    "df[\"Energy Category\"] = df.energy.apply(categorize_value)"
   ]
  },
  {
   "cell_type": "code",
   "execution_count": null,
   "id": "8da3e06e",
   "metadata": {},
   "outputs": [],
   "source": [
    "df[\"Acousticness Category\"] = df.acousticness.apply(categorize_value)"
   ]
  },
  {
   "cell_type": "code",
   "execution_count": null,
   "id": "f5be20d5",
   "metadata": {},
   "outputs": [],
   "source": [
    "df[\"Valence Category\"] = df.valence.apply(categorize_value)"
   ]
  },
  {
   "cell_type": "code",
   "execution_count": null,
   "id": "f390f2eb",
   "metadata": {},
   "outputs": [],
   "source": [
    "df[\"Instrumentalness Category\"] = df.instrumentalness.apply(categorize_value)"
   ]
  },
  {
   "cell_type": "code",
   "execution_count": null,
   "id": "ea4a19b6",
   "metadata": {},
   "outputs": [],
   "source": [
    "def loudnessfunc(y):\n",
    "    if y>=-60 and y<=-9.48:\n",
    "        return \"Low\"\n",
    "    else:\n",
    "        return \"High\""
   ]
  },
  {
   "cell_type": "code",
   "execution_count": null,
   "id": "f250e63f",
   "metadata": {},
   "outputs": [],
   "source": [
    "df[\"Loudness Category\"] = df.loudness.apply(loudnessfunc)"
   ]
  },
  {
   "cell_type": "code",
   "execution_count": null,
   "id": "61f8305f",
   "metadata": {},
   "outputs": [],
   "source": [
    "def speachiness_cat(d):\n",
    "    if d >= 0.66:\n",
    "        return \"Entirely Spoken\"\n",
    "    elif d >= 0.33 and d < 0.66:\n",
    "        return \"Music + speech\"\n",
    "    else:\n",
    "        return \"Entirely music\""
   ]
  },
  {
   "cell_type": "code",
   "execution_count": null,
   "id": "4fedadbf",
   "metadata": {},
   "outputs": [],
   "source": [
    "df[\"Speechiness category\"] = df.speechiness.apply(speachiness_cat)"
   ]
  },
  {
   "cell_type": "code",
   "execution_count": null,
   "id": "abca74a6",
   "metadata": {},
   "outputs": [],
   "source": [
    "def liveness_cat(g):\n",
    "    if g > 0.8 and g <= 1.0:\n",
    "        return \"Strong Live\"\n",
    "    else:\n",
    "        return \"Weak Live\""
   ]
  },
  {
   "cell_type": "code",
   "execution_count": null,
   "id": "9d7d8d36",
   "metadata": {},
   "outputs": [],
   "source": [
    "df[\"liveness Category\"] = df.liveness.apply(liveness_cat)"
   ]
  },
  {
   "cell_type": "code",
   "execution_count": null,
   "id": "965c653b",
   "metadata": {},
   "outputs": [],
   "source": [
    "def likecat(z):\n",
    "    if z == 0:\n",
    "        return \"Disliked\"\n",
    "    else:\n",
    "        return \"Liked\""
   ]
  },
  {
   "cell_type": "code",
   "execution_count": null,
   "id": "8f7b1b59",
   "metadata": {},
   "outputs": [],
   "source": [
    "df[\"Liked/Disliked\"] = df.liked.apply(likecat)"
   ]
  },
  {
   "cell_type": "code",
   "execution_count": null,
   "id": "9469ed00",
   "metadata": {},
   "outputs": [],
   "source": [
    "# Extracting the data according to following conditions: Dance and Workout "
   ]
  },
  {
   "cell_type": "code",
   "execution_count": null,
   "id": "18b5fd37",
   "metadata": {},
   "outputs": [],
   "source": [
    "# Considering these parameters: Instrumentalness, Acousticness, Danceability and Energy "
   ]
  },
  {
   "cell_type": "code",
   "execution_count": null,
   "id": "12bc4b56",
   "metadata": {},
   "outputs": [],
   "source": [
    "# Single combinations: High Danceability, High Instrumentalness, High Acousticness and High Energy"
   ]
  },
  {
   "cell_type": "code",
   "execution_count": null,
   "id": "5c8b2f78",
   "metadata": {},
   "outputs": [],
   "source": [
    "High_Dan = df[(df[\"Danceability Category\"] == \"High\")]\n",
    "High_Dan"
   ]
  },
  {
   "cell_type": "code",
   "execution_count": null,
   "id": "0ce348f3",
   "metadata": {},
   "outputs": [],
   "source": [
    "High_Ins = df[(df[\"Instrumentalness Category\"] == \"High\")]\n",
    "High_Ins"
   ]
  },
  {
   "cell_type": "code",
   "execution_count": null,
   "id": "33f420de",
   "metadata": {},
   "outputs": [],
   "source": [
    "High_Aco = df[(df[\"Acousticness Category\"] == \"High\")]\n",
    "High_Aco"
   ]
  },
  {
   "cell_type": "code",
   "execution_count": null,
   "id": "dd388614",
   "metadata": {
    "scrolled": true
   },
   "outputs": [],
   "source": [
    "High_Energy = df[(df[\"Energy Category\"] == \"High\")]\n",
    "High_Energy"
   ]
  },
  {
   "cell_type": "code",
   "execution_count": null,
   "id": "0ea37914",
   "metadata": {},
   "outputs": [],
   "source": [
    "# Double combinations: 1. High Instrumentalness and High Acousticness, 2. High Instrumentalness and High Danceability,\n",
    "# 3. High Instrumentalness and High Energy, 4. High Acousticness and High Danceability, 5. High Acousticness and High Energy\n",
    "# 6. High Danceability and High Energy "
   ]
  },
  {
   "cell_type": "code",
   "execution_count": null,
   "id": "418e371a",
   "metadata": {},
   "outputs": [],
   "source": [
    "combination_d1 = df[(df[\"Instrumentalness Category\"] == \"High\") & (df[\"Acousticness Category\"] == \"High\")]"
   ]
  },
  {
   "cell_type": "code",
   "execution_count": null,
   "id": "e6933daf",
   "metadata": {},
   "outputs": [],
   "source": [
    "combination_d2 = df[(df[\"Instrumentalness Category\"] == \"High\") & (df[\"Danceability Category\"] == \"High\")]"
   ]
  },
  {
   "cell_type": "code",
   "execution_count": null,
   "id": "33d9f8b0",
   "metadata": {},
   "outputs": [],
   "source": [
    "combination_d3 = df[(df[\"Instrumentalness Category\"] == \"High\") & (df[\"Energy Category\"] == \"High\")]"
   ]
  },
  {
   "cell_type": "code",
   "execution_count": null,
   "id": "89f52444",
   "metadata": {},
   "outputs": [],
   "source": [
    "combination_d4 = df[(df[\"Acousticness Category\"] == \"High\") & (df[\"Danceability Category\"] == \"High\")]"
   ]
  },
  {
   "cell_type": "code",
   "execution_count": null,
   "id": "4c170657",
   "metadata": {},
   "outputs": [],
   "source": [
    "combination_d5 = df[(df[\"Acousticness Category\"] == \"High\") & (df[\"Energy Category\"] == \"High\")]"
   ]
  },
  {
   "cell_type": "code",
   "execution_count": null,
   "id": "2b7ccbb4",
   "metadata": {},
   "outputs": [],
   "source": [
    "combination_d6 = df[(df[\"Energy Category\"] == \"High\") & (df[\"Danceability Category\"] == \"High\")]"
   ]
  },
  {
   "cell_type": "code",
   "execution_count": null,
   "id": "7a2acc93",
   "metadata": {},
   "outputs": [],
   "source": [
    "# Triple combinations: 1. High Instrumentalness, High Acousticness and High Danceability 2. High Acousticness, High Danceability,\n",
    "# and High Energy, 3. High Danceability, High Instrumentalness and High Energy, 4. High Energy, High Instrumentalness and \n",
    "# High Acousticness"
   ]
  },
  {
   "cell_type": "code",
   "execution_count": null,
   "id": "b25910a2",
   "metadata": {},
   "outputs": [],
   "source": [
    "combination_t1 = df[(df[\"Instrumentalness Category\"] == \"High\") & (df[\"Acousticness Category\"] == \"High\") & (df[\"Danceability Category\"] == \"High\")]\n",
    "combination_t1"
   ]
  },
  {
   "cell_type": "code",
   "execution_count": null,
   "id": "53ab8e83",
   "metadata": {},
   "outputs": [],
   "source": [
    "combination_t2 = df[(df[\"Energy Category\"] == \"High\") & (df[\"Acousticness Category\"] == \"High\") & (df[\"Danceability Category\"] == \"High\")]\n",
    "combination_t2"
   ]
  },
  {
   "cell_type": "code",
   "execution_count": null,
   "id": "17409f43",
   "metadata": {},
   "outputs": [],
   "source": [
    "combination_t3 = df[(df[\"Instrumentalness Category\"] == \"High\") & (df[\"Energy Category\"] == \"High\") & (df[\"Danceability Category\"] == \"High\")]\n",
    "combination_t3"
   ]
  },
  {
   "cell_type": "code",
   "execution_count": null,
   "id": "24e24da5",
   "metadata": {
    "scrolled": true
   },
   "outputs": [],
   "source": [
    "combination_t4 = df[(df[\"Instrumentalness Category\"] == \"High\") & (df[\"Acousticness Category\"] == \"High\") & (df[\"Energy Category\"] == \"High\")]\n",
    "combination_t4"
   ]
  },
  {
   "cell_type": "code",
   "execution_count": null,
   "id": "d10de488",
   "metadata": {},
   "outputs": [],
   "source": [
    "import json"
   ]
  },
  {
   "cell_type": "code",
   "execution_count": null,
   "id": "3a915cb2",
   "metadata": {},
   "outputs": [],
   "source": [
    "with open('./good.json','r') as file:\n",
    "    data1 = json.load(file)"
   ]
  },
  {
   "cell_type": "code",
   "execution_count": null,
   "id": "a7cab045",
   "metadata": {},
   "outputs": [],
   "source": [
    "for i in data1:\n",
    "    print(i)"
   ]
  },
  {
   "cell_type": "code",
   "execution_count": null,
   "id": "78b783a4",
   "metadata": {},
   "outputs": [],
   "source": [
    "for i in data1['audio_features']:\n",
    "    for j in i:\n",
    "        print(j,'=',i[j])\n",
    "    print('\\n')"
   ]
  },
  {
   "cell_type": "code",
   "execution_count": null,
   "id": "9071e2d6",
   "metadata": {},
   "outputs": [],
   "source": [
    "good = pd.DataFrame(data1['audio_features'])\n",
    "good"
   ]
  },
  {
   "cell_type": "code",
   "execution_count": null,
   "id": "ab5e073d",
   "metadata": {},
   "outputs": [],
   "source": [
    "with open('./dislike.json','r') as file:\n",
    "    data2 = json.load(file)"
   ]
  },
  {
   "cell_type": "code",
   "execution_count": null,
   "id": "e17c844c",
   "metadata": {},
   "outputs": [],
   "source": [
    "for i in data2:\n",
    "    print(i)"
   ]
  },
  {
   "cell_type": "code",
   "execution_count": null,
   "id": "2ac8b8a4",
   "metadata": {},
   "outputs": [],
   "source": [
    "for i in data2['audio_features']:\n",
    "    for j in i:\n",
    "        print(j,'=',i[j])\n",
    "    print('\\n')"
   ]
  },
  {
   "cell_type": "code",
   "execution_count": null,
   "id": "8fd806ee",
   "metadata": {},
   "outputs": [],
   "source": [
    "dislike = pd.DataFrame(data2['audio_features'])\n",
    "dislike"
   ]
  },
  {
   "cell_type": "code",
   "execution_count": null,
   "id": "8c61b609",
   "metadata": {},
   "outputs": [],
   "source": [
    "dt= pd.concat([dislike,good], axis=0)"
   ]
  },
  {
   "cell_type": "code",
   "execution_count": null,
   "id": "78931dd3",
   "metadata": {},
   "outputs": [],
   "source": [
    "dt.reset_index(inplace=True)\n",
    "dt.drop(columns=['index'], inplace=True)"
   ]
  },
  {
   "cell_type": "code",
   "execution_count": null,
   "id": "e3a01bb0",
   "metadata": {},
   "outputs": [],
   "source": [
    "dt = pd.read_excel(\"../DataSets/spotify excel.xlsx\")\n",
    "dt.columns"
   ]
  },
  {
   "cell_type": "code",
   "execution_count": null,
   "id": "d5fff17a",
   "metadata": {},
   "outputs": [],
   "source": [
    "def playlist(dt):\n",
    "\n",
    "    print (\"Please Choose a Playlist:\")\n",
    "    print (\"1- Dance\\n2- Energy\\n3- Relaxing\\n4- Rap\\n5- Silent\\n6- Podcast\")\n",
    "\n",
    "    while(True):\n",
    "        choice = input(\"Enter your Choice here:\")\n",
    "        if choice.isnumeric():\n",
    "            choice = int(choice)\n",
    "            if choice > 0:\n",
    "                if choice <=6:\n",
    "                    print(choice)\n",
    "                    break \n",
    "                else:\n",
    "                    print(\"Choice not available:\")\n",
    "\n",
    "    if choice == 1:\n",
    "        ds = dt[(dt['Danceability'] >= 0.5) & (dt['Energy'] >= 0.5)]\n",
    "        dsa = ds[(ds['Acousticness'] >= 0.5)]\n",
    "        dsa.sort_values(by='Danceability', ascending=False, inplace=True)\n",
    "        temp = dt\n",
    "        a = dsa.index.tolist()\n",
    "        temp.drop(a, inplace= True)\n",
    "        final = pd.concat([dsa,temp], axis=0)\n",
    "        final.reset_index(inplace=True) \n",
    "        final.drop(columns=['S.No.', 'Energy', 'Key', 'Loudness', 'Mode',\n",
    "       'Speechness', 'Acousticness', 'Instrumentalness', 'Liveness', 'Valence',\n",
    "       'Tempo', 'Type', 'ID', 'Track_href', 'Analysis_url',\n",
    "       'Duration_ms', 'Time_signature'], inplace=True)\n",
    "        display(final.head(9))\n",
    "\n",
    "    elif choice == 2:\n",
    "        ds = dt[(dt['Valence'] >= 0.5) & (dt['Energy'] >= 0.5)]\n",
    "        dsa = ds[(ds['Acousticness'] >= 0.5)]\n",
    "        dsa.sort_values(by='Energy', ascending=False, inplace=True)\n",
    "        temp = dt\n",
    "        a = dsa.index.tolist()\n",
    "        temp.drop(a, inplace= True)\n",
    "        final = pd.concat([dsa,temp], axis=0)\n",
    "        final.reset_index(inplace=True) \n",
    "        final.drop(columns=['S.No.', 'Danceability', 'Key', 'Loudness', 'Mode',\n",
    "       'Speechness', 'Acousticness', 'Instrumentalness', 'Liveness', 'Valence',\n",
    "       'Tempo', 'Type', 'ID', 'Track_href', 'Analysis_url',\n",
    "       'Duration_ms', 'Time_signature'], inplace=True)\n",
    "        display(final.head(9))\n",
    "\n",
    "    elif choice == 3:\n",
    "        ds = dt[(dt['Valence'] >= 0.5) & (dt['Energy'] <= 0.5)]\n",
    "        dsa = ds[(ds['Loudness'] <= 7.66)]\n",
    "        dsa.sort_values(by='Energy' , ascending=True, inplace=True)\n",
    "        temp = dt\n",
    "        a = dsa.index.tolist()\n",
    "        temp.drop(a, inplace= True)\n",
    "        final = pd.concat([dsa,temp], axis=0)\n",
    "        final.reset_index(inplace=True) \n",
    "        final.drop(columns=['S.No.', 'Danceability', 'Key', 'Mode',\n",
    "       'Speechness', 'Acousticness', 'Instrumentalness', 'Liveness', 'Valence',\n",
    "       'Tempo', 'Type', 'ID', 'Track_href', 'Analysis_url',\n",
    "       'Duration_ms', 'Time_signature'], inplace=True)\n",
    "        display(final.head(9))\n",
    "\n",
    "    elif choice == 4:\n",
    "        ds= dt[(dt['Speechness'] >= 0.33) & (dt['Speechness'] <= 0.66)]\n",
    "        dsa = ds[ds['Valence'] >= 0.33]\n",
    "        dsa.sort_values(by='Speechness', ascending=False, inplace=True)\n",
    "        temp = dt\n",
    "        a = dsa.index.tolist()\n",
    "        temp.drop(a, inplace= True)\n",
    "        final = pd.concat([dsa,temp], axis=0)\n",
    "        final.reset_index(inplace=True) \n",
    "        final.drop(columns=['S.No.', 'Danceability', 'Key', 'Loudness', 'Mode', 'Energy', 'Acousticness', 'Instrumentalness', 'Liveness', 'Valence',\n",
    "       'Tempo', 'Type', 'ID', 'Track_href', 'Analysis_url',\n",
    "       'Duration_ms', 'Time_signature'], inplace=True)\n",
    "        display(final.head(9))\n",
    "        \n",
    "    elif choice == 5:\n",
    "        ds = dt[(dt['Instrumentalness'] <= 0.5) & (dt['Speechness'] <= 0.33)]\n",
    "        dsa = ds[(ds['Energy'] <= 0.5)]\n",
    "        dsa.sort_values(by='Instrumentalness', ascending=True, inplace=True)\n",
    "        temp = dt\n",
    "        a = dsa.index.tolist()\n",
    "        temp.drop(a, inplace= True)\n",
    "        final = pd.concat([dsa,temp], axis=0)\n",
    "        final.reset_index(inplace=True) \n",
    "        final.drop(columns=['S.No.', 'Danceability' , 'Energy', 'Key', 'Loudness', 'Mode', 'Acousticness', 'Liveness', 'Valence',\n",
    "       'Tempo', 'Type', 'ID', 'Track_href', 'Analysis_url',\n",
    "       'Duration_ms', 'Time_signature'], inplace=True)\n",
    "        display(final.head(9))\n",
    "        \n",
    "    elif choice == 6:\n",
    "        print (\"No Songs Available.\")"
   ]
  },
  {
   "cell_type": "code",
   "execution_count": null,
   "id": "7b84a822",
   "metadata": {},
   "outputs": [],
   "source": [
    "while(True):\n",
    "    playlist(dt)\n",
    "    \n",
    "    print(\"Are you sure you want to continue:\")\n",
    "    while(True):    \n",
    "        print(\"1. Go Back\\n2. Exit\")\n",
    "        choice = input(\"Please choose your input: \")\n",
    "        if choice.isnumeric() :\n",
    "            choice = int(choice)\n",
    "            if choice == 1:\n",
    "                break\n",
    "            elif choice == 2:\n",
    "                break\n",
    "            else:\n",
    "                print(\"Inappropriate Choice\")\n",
    "        else:\n",
    "            print(\"Invalid Input\")\n",
    "            \n",
    "    if choice == 2:\n",
    "        break"
   ]
  },
  {
   "cell_type": "markdown",
   "id": "876811fe",
   "metadata": {},
   "source": []
  },
  {
   "cell_type": "code",
   "execution_count": null,
   "id": "459166ff",
   "metadata": {},
   "outputs": [],
   "source": []
  },
  {
   "cell_type": "code",
   "execution_count": null,
   "id": "4ea8588c",
   "metadata": {},
   "outputs": [],
   "source": []
  }
 ],
 "metadata": {
  "kernelspec": {
   "display_name": "Python 3 (ipykernel)",
   "language": "python",
   "name": "python3"
  },
  "language_info": {
   "codemirror_mode": {
    "name": "ipython",
    "version": 3
   },
   "file_extension": ".py",
   "mimetype": "text/x-python",
   "name": "python",
   "nbconvert_exporter": "python",
   "pygments_lexer": "ipython3",
   "version": "3.11.5"
  }
 },
 "nbformat": 4,
 "nbformat_minor": 5
}
